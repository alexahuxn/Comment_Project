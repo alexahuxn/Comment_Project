{
 "cells": [
  {
   "cell_type": "code",
   "execution_count": 10,
   "metadata": {},
   "outputs": [
    {
     "name": "stdout",
     "output_type": "stream",
     "text": [
      "['Name', 'Gender', 'Test1', 'Test2', 'Final Exam', 'Problem Set 1-3 Average', 'Problem Set 4-6 Average', 'Problem Set Average', 'Grade', 'Asked for help', 'Banking Project', 'Contributed to Project', 'Self Reflection']\n",
      "['Abigail', 'F', '94', '98', '96', '98', '94', '96', '96', 'Y', '93', 'Y', 'I think I am doing well in Computer Science. I especially did well on the second test.']\n",
      "['Bob', 'M', '74', '69', '68', '72', '77', '74.5', '72', 'N', '69', 'N', 'I like to play video games in class, which means I am not focused.']\n",
      "['Jill', 'F', '85', '88', '90', '88', '94', '91', '89', 'Y', '93', 'Y', 'Computer Science is a very fascinating class. I am engaged in class and turn my homework in on time.']\n",
      "['Presley', 'M', '84', '91', '70', '74', '82', '78', '80.2', 'N', '94', 'Y', 'I found it is hard for me to focus in class. Some of the concepts are hard to understand.']\n",
      "['Frank', 'M', '100', '100', '98', '97', '99', '98', '98.8', 'N', '94', 'Y', 'I enjoy having this class. Everything is easy for me. I made couple mistakes in the problem set because I was careless.']\n",
      "['Alexandria', 'F', '92', '89', '87', '93', '95', '94', '91.2', 'Y', '94', 'Y', \"I can't believe I only have an A-.\"]\n"
     ]
    }
   ],
   "source": [
    "import csv\n",
    "\n",
    "with open ('teachers_comments.csv') as csvfile:\n",
    "    data = csv.reader(csvfile, delimiter=',')\n",
    "    for row in data:\n",
    "        print(row)"
   ]
  },
  {
   "cell_type": "code",
   "execution_count": 12,
   "metadata": {},
   "outputs": [
    {
     "name": "stdout",
     "output_type": "stream",
     "text": [
      "[['Abigail', 'F', '94', '98', '96', '98', '94', '96', '96', 'Y', '93', 'Y', 'I think I am doing well in Computer Science. I especially did well on the second test.'], ['Bob', 'M', '74', '69', '68', '72', '77', '74.5', '72', 'N', '69', 'N', 'I like to play video games in class, which means I am not focused.'], ['Jill', 'F', '85', '88', '90', '88', '94', '91', '89', 'Y', '93', 'Y', 'Computer Science is a very fascinating class. I am engaged in class and turn my homework in on time.'], ['Presley', 'M', '84', '91', '70', '74', '82', '78', '80.2', 'N', '94', 'Y', 'I found it is hard for me to focus in class. Some of the concepts are hard to understand.'], ['Frank', 'M', '100', '100', '98', '97', '99', '98', '98.8', 'N', '94', 'Y', 'I enjoy having this class. Everything is easy for me. I made couple mistakes in the problem set because I was careless.'], ['Alexandria', 'F', '92', '89', '87', '93', '95', '94', '91.2', 'Y', '94', 'Y', \"I can't believe I only have an A-.\"]]\n"
     ]
    }
   ],
   "source": [
    "grade_infos = []\n",
    "with open ('teachers_comments.csv') as csvfile:\n",
    "    data = csv.reader(csvfile, delimiter=',')\n",
    "    header = next(data)\n",
    "    for line in data:\n",
    "        grade_infos.append(line)\n",
    "print(grade_infos)"
   ]
  },
  {
   "cell_type": "code",
   "execution_count": 21,
   "metadata": {},
   "outputs": [
    {
     "ename": "SyntaxError",
     "evalue": "f-string: expecting '}' (<ipython-input-21-45bcaf7f67ed>, line 22)",
     "output_type": "error",
     "traceback": [
      "\u001b[0;36m  File \u001b[0;32m\"<ipython-input-21-45bcaf7f67ed>\"\u001b[0;36m, line \u001b[0;32m22\u001b[0m\n\u001b[0;31m    print(f\"I am pleased with {row[0]}'s progress this semester. {if_pronoun(row[1]).titles()} problem set average was {row[5}, which indicates that she had a solid understanding of all the topics covered this semester and that {if_gender(row[1])} was consistent about meeting deadlines. {if_pronoun(row[1]).titles()} quiz average and final exam score were {(row[2]+row[3])/2} and {row[4]}, respectively, which demonstrated that {if_gender(row[1])} grasped the new content thoroughly and could hand write algorithms without using outside resources.\")\u001b[0m\n\u001b[0m         ^\u001b[0m\n\u001b[0;31mSyntaxError\u001b[0m\u001b[0;31m:\u001b[0m f-string: expecting '}'\n"
     ]
    }
   ],
   "source": [
    "semester_progress = 'In the first semester, we covered the fundamentals of Python, including loops, conditionals, functions, and dictionaries. In addition, we explored connections between math and computer science, including plotting, simulating the game of craps, and optimizing customer service at a bank.'\n",
    "\n",
    "def if_gender(gender):\n",
    "    for row in grade_infos:\n",
    "        if gender == 'F':\n",
    "            return 'she'\n",
    "        else:\n",
    "            return 'he'\n",
    "if_gender(row[1])    \n",
    "\n",
    "def if_pronoun(pronoun):\n",
    "    for row in grade_infos:\n",
    "        if gender == 'F':\n",
    "            return 'her'\n",
    "        else:\n",
    "            return 'his'\n",
    "if_pronoun(row[1])\n",
    "    \n",
    "def grades_comments(grade):\n",
    "    for row in grade_infos:\n",
    "        if grade >= 93:\n",
    "            print(f\"I am pleased with {row[0]}'s progress this semester. {if_pronoun(row[1]).titles()} problem set average was {row[5]}, which indicates that she had a solid understanding of all the topics covered this semester and that {if_gender(row[1])} was consistent about meeting deadlines. {if_pronoun(row[1]).titles()} quiz average and final exam score were {(row[2]+row[3])/2} and {row[4]}, respectively, which demonstrated that {if_gender(row[1])} grasped the new content thoroughly and could hand write algorithms without using outside resources.\")\n",
    "        elif 85 <= grade < 93:\n",
    "            print(f\"{row[0]} has worked really hard in Computer Science this semester. {if_pronoun(row[1]).titles()} problem set average was {row[5]}, which indicates that she had a solid understanding of the majority of the topics covered this semester and that {if_gender(row[1])} was consistent about meeting deadlines. {if_pronoun(row[1]).titles()} quiz average and final exam score were {(row[2]+row[3])/2} and {row[4]}, respectively, which demonstrated that {if_gender(row[1])} grasped the new content thoroughly and could hand write algorithms without using outside resources.\")\n",
    "        elif 75 <= grade < 84:\n",
    "            print(f\"{row[0]} has encountered difficulty this semester but {if_gender(row[1])} is persevering. {if_pronoun(row[1]).titles()} problem set average was {row[5]}, which indicates that {if_gender(row[1])} had gaps in {if_pronoun(row[1])} understanding and was inconsistent about meeting deadlines. {if_pronoun(row[1]).titles()} quiz average and final exam score were {(row[2]+row[3])/2} and {row[4]}, respectively, which demonstrated that {if_gender(row[1])} did not grasp the new content thoroughly and could not hand write algorithms without using outside resources.\")\n",
    "        else:\n",
    "            print(f\"{row[0]} has encountered difficulty this semester and {if_gender(row[1])} is not persevering. {if_pronoun(row[1]).titles()} problem set average was {row[5]}, which indicates that {if_gender(row[1])} had struggled to understand and had never met any deadlines. {if_pronoun(row[1]).titles()} quiz average and final exam score were {(row[2]+row[3])/2} and {row[4]}, respectively, which demonstrated that {if_gender(row[1])} did not grasp the new content thoroughly and could not hand write algorithms at all.\")\n",
    "grades_comments(row[8])\n",
    "            "
   ]
  },
  {
   "cell_type": "code",
   "execution_count": 6,
   "metadata": {},
   "outputs": [
    {
     "name": "stdout",
     "output_type": "stream",
     "text": [
      "In the first semester, we covered the fundamentals of Python, including loops, conditionals, functions, and dictionaries. In addition, we explored connections between math and computer science, including plotting, simulating the game of craps, and optimizing customer service at a bank.\n"
     ]
    }
   ],
   "source": [
    "with open('abigail.txt', 'w') as f:\n",
    "    f.write(semester_progress)\n",
    "    for row in grade_infos:\n",
    "        f.write\n",
    "        \n",
    "with open('abigail.txt') as f:\n",
    "    for line in f:\n",
    "        print(line)"
   ]
  },
  {
   "cell_type": "code",
   "execution_count": null,
   "metadata": {},
   "outputs": [],
   "source": []
  }
 ],
 "metadata": {
  "kernelspec": {
   "display_name": "Python 3",
   "language": "python",
   "name": "python3"
  },
  "language_info": {
   "codemirror_mode": {
    "name": "ipython",
    "version": 3
   },
   "file_extension": ".py",
   "mimetype": "text/x-python",
   "name": "python",
   "nbconvert_exporter": "python",
   "pygments_lexer": "ipython3",
   "version": "3.6.5"
  }
 },
 "nbformat": 4,
 "nbformat_minor": 2
}
