{
 "cells": [
  {
   "cell_type": "code",
   "execution_count": 11,
   "metadata": {},
   "outputs": [
    {
     "name": "stdout",
     "output_type": "stream",
     "text": [
      "['Name', 'Gender', 'Test1', 'Test2', 'Final Exam', 'Problem Set 1-3 Average', 'Problem Set 4-6 Average', 'Problem Set Average', 'Grade', 'Asked for help', 'Banking Project', 'Contributed to Project', 'Self Reflection']\n",
      "['Abigail', 'F', '94', '98', '96', '98', '94', '96', '96', 'Y', '93', 'Y', 'I think I am doing well in Computer Science. I especially did well on the second test.']\n",
      "['Bob', 'M', '74', '69', '68', '72', '77', '74.5', '72', 'N', '69', 'N', 'I like to play video games in class, which means I am not focused.']\n",
      "['Jill', 'F', '85', '88', '90', '88', '94', '91', '89', 'Y', '93', 'Y', 'Computer Science is a very fascinating class. I am engaged in class and turn my homework in on time.']\n",
      "['Presley', 'M', '84', '91', '70', '74', '82', '78', '80.2', 'N', '94', 'Y', 'I found it is hard for me to focus in class. Some of the concepts are hard to understand.']\n",
      "['Frank', 'M', '100', '100', '98', '97', '99', '98', '98.8', 'N', '94', 'Y', 'I enjoy having this class. Everything is easy for me. I made couple mistakes in the problem set because I was careless.']\n",
      "['Alexandria', 'F', '92', '89', '87', '93', '95', '94', '91.2', 'Y', '94', 'Y', \"I can't believe I only have an A-.\"]\n"
     ]
    }
   ],
   "source": [
    "import csv\n",
    "\n",
    "with open ('teachers_comments.csv') as csvfile:\n",
    "    data = csv.reader(csvfile, delimiter=',')\n",
    "    for row in data:\n",
    "        print(row)"
   ]
  },
  {
   "cell_type": "code",
   "execution_count": 12,
   "metadata": {},
   "outputs": [
    {
     "name": "stdout",
     "output_type": "stream",
     "text": [
      "[['Abigail', 'F', '94', '98', '96', '98', '94', '96', '96', 'Y', '93', 'Y', 'I think I am doing well in Computer Science. I especially did well on the second test.'], ['Bob', 'M', '74', '69', '68', '72', '77', '74.5', '72', 'N', '69', 'N', 'I like to play video games in class, which means I am not focused.'], ['Jill', 'F', '85', '88', '90', '88', '94', '91', '89', 'Y', '93', 'Y', 'Computer Science is a very fascinating class. I am engaged in class and turn my homework in on time.'], ['Presley', 'M', '84', '91', '70', '74', '82', '78', '80.2', 'N', '94', 'Y', 'I found it is hard for me to focus in class. Some of the concepts are hard to understand.'], ['Frank', 'M', '100', '100', '98', '97', '99', '98', '98.8', 'N', '94', 'Y', 'I enjoy having this class. Everything is easy for me. I made couple mistakes in the problem set because I was careless.'], ['Alexandria', 'F', '92', '89', '87', '93', '95', '94', '91.2', 'Y', '94', 'Y', \"I can't believe I only have an A-.\"]]\n"
     ]
    }
   ],
   "source": [
    "grade_infos = []\n",
    "with open ('teachers_comments.csv') as csvfile:\n",
    "    data = csv.reader(csvfile, delimiter=',')\n",
    "    header = next(data)\n",
    "    for line in data:\n",
    "        grade_infos.append(line)\n",
    "print(grade_infos)"
   ]
  },
  {
   "cell_type": "code",
   "execution_count": 13,
   "metadata": {},
   "outputs": [],
   "source": [
    "def gradesentence2():\n",
    "    \"\"\"Returns a sentence based on a student's problem set 1-3 average.\"\"\"\n",
    "    # these if and elif statements determine what range the student's problem\n",
    "    # set 1-3 avg grade is in\n",
    "    if float(row[8]) > 90:\n",
    "        return(f'{row[0]} performed very well on problem set 1-3.')\n",
    "    elif float(row[8]) > 80:\n",
    "        return(f'{row[0]} performed well on problem set 1-3.')\n",
    "    elif float(row[8]) > 70:\n",
    "        return(f'{row[0]} performed above average on problem set 1-3.')\n",
    "    else:\n",
    "        return(f'{row[0]} perfomed okay on problem set 1-3.')\n",
    "\n",
    "\n",
    "def help_1(pronoun):\n",
    "    \"\"\"Returns a string of whether or not a student asked for help during the\n",
    "    class. It also takes into account the student's grade to determine in they\n",
    "    had any questions. Input the pronoun function.\"\"\"\n",
    "    if row[9] == 'N':  # if they didn't ask for help\n",
    "        if float(row[8]) > 90:  # if grade is above a 90\n",
    "            return f\"{row[0]} didn't ask for much help this semester, \\\n",
    "but {he_she_pronoun()} didn't seem to need it.\"\n",
    "        else:\n",
    "            # if grade is below a 90 and he/she didn't ask for help\n",
    "            return(f\"{row[0]} should ask for more help on assignments.\")\n",
    "    elif row[9] == 'Y':\n",
    "        # if student asked for help, regardless of grade\n",
    "        return(f'{row[0]} did a good job asking for help this semester.')\n",
    "\n",
    "\n",
    "def contribution():\n",
    "    '''Reads the 11th row of the spreadsheet for a Y or N to determine if a\n",
    "    student helped his/her group on the bank project. Returns a string.'''\n",
    "    if row[10] == 'Y':  # if they were helpful\n",
    "        return(f'{row[0]} did a good job contributing \\\n",
    "to the group bank project.')\n",
    "    else:  # if they weren't helpful\n",
    "        return(f'{row[0]} did a poor job contributing to the group bank \\\n",
    "project. {he_she_pronoun().title()} needs to work on teamwork.')\n",
    "\n",
    "\n",
    "def grade_sentence(grade):\n",
    "    '''Returns a sentence based on a students grade.\n",
    "    Input the grade in number form.'''\n",
    "    if float(grade) > 90:  # if they got above a 90\n",
    "        return f'{row[0]} is doing very well in Computer Science.'\n",
    "    elif float(grade) > 80:\n",
    "        # if they got above an 80 (if they got 90+,\n",
    "        # then first if statement filters them out)\n",
    "        return f'{row[0]} is doing well in Computer Science.'\n",
    "    elif float(grade) > 70:  # in the 70s\n",
    "        return f'{row[0]} is doing alright in Computer Science.'\n",
    "    else:  # grade is below a C\n",
    "        return f'{row[0]} is doing okay in Computer Science.'\n",
    "\n",
    "\n",
    "def he_she_pronoun():\n",
    "    '''Determines, for a specific student (based on the for loop\n",
    "    that runs for each student), if his/her pronoun is she or he.\n",
    "    Returns a string.'''\n",
    "    if row[1] == 'F':  # if student is female\n",
    "        return 'she'\n",
    "    return 'he'  # if not female (function will stop at return 'she',\n",
    "# so no else statement is needed)\n",
    "\n",
    "\n",
    "def his_her_pronoun():\n",
    "    '''Determines, for a specific student (based on the for loop\n",
    "    that runs for each student) if he/she takes his or her. Returns\n",
    "    a string.'''\n",
    "    if row[1] == 'F':  # if student is female\n",
    "        return 'her '\n",
    "    return 'his '  # if not female (function will stop at return 'her',\n",
    "# so no else statement is needed)\n",
    "\n",
    "\n",
    "def improve_problem_set(ps1, ps2):\n",
    "    '''Takes in grades for problem sets 1-3 and 4-6 to determine if\n",
    "    the student improved. Returns a string.'''\n",
    "    if float(ps2) > float(ps1):  # if problem set 4-6 avg is better\n",
    "        # than 1-3 average\n",
    "        return f'{row[0]} showed improvement in the problem sets over \\\n",
    "the course of the semester. '\n",
    "    return f'{row[0]} should continue working hard on the problem sets \\\n",
    "as they continue to get harder. '  # if 4-6 avg is worse than 1-3\n",
    "\n",
    "\n",
    "def self_reflection(ref, pronoun):\n",
    "    \"\"\"Takes in a student's reflection and the his_her_pronoun function\n",
    "    and returns the comment in a sentence.\"\"\"\n",
    "    return f'{row[0]} wrote in {pronoun}reflection:\\n\\t\"{ref}\"\\\n",
    "\\n'  # returns what the student wrote\n",
    "\n",
    "\n",
    "def tests_comments(grade):\n",
    "    \"\"\"Returns the end of a sentence (after a name) based on a number input\"\"\"\n",
    "    if float(grade) >= 93:  # if he/she has an A\n",
    "        return ' is doing very well in Computer Science. '\n",
    "    elif 85 <= float(grade):  # if he/she has a high B or A-\n",
    "        return ' is doing fine in Computer Science. '\n",
    "    elif 75 <= float(grade):  # high C or low B\n",
    "        return ' has encountered difficulty in Computer Science \\\n",
    "this semester but is preservering. '\n",
    "    else:\n",
    "        return ' is struggling in Computer Science. '\n",
    "\n",
    "\n",
    "def a_an(num):\n",
    "    \"\"\"Returns 'a' or 'an' based on a number (in string form) that will\n",
    "    follow\"\"\"\n",
    "    if num[0] == '8' or num[0] == '1':  # eight and one start with vowels\n",
    "        return 'an'\n",
    "    return 'a'\n",
    "            "
   ]
  },
  {
   "cell_type": "code",
   "execution_count": 14,
   "metadata": {},
   "outputs": [],
   "source": [
    "class_description = 'In the first semester, we covered the fundamentals of \\\n",
    "Python, including loops, conditionals, functions, and dictionaries. In \\\n",
    "addition, we explored connections between math and computer science, \\\n",
    "including plotting, simulating the game of craps, and optimizing customer \\\n",
    "service at a bank.'"
   ]
  },
  {
   "cell_type": "code",
   "execution_count": 15,
   "metadata": {},
   "outputs": [
    {
     "name": "stdout",
     "output_type": "stream",
     "text": [
      "['Name', 'Gender', 'Test1', 'Test2', 'Final Exam', 'Problem Set 1-3 Average', 'Problem Set 4-6 Average', 'Problem Set Average', 'Grade', 'Asked for help', 'Banking Project', 'Contributed to Project', 'Self Reflection'] \n",
      "\n"
     ]
    }
   ],
   "source": [
    "with open('teachers_comments.csv') as csvfile:  # opens the spreadsheet with data\n",
    "    data = csv.reader(csvfile, delimiter=',')\n",
    "    header = next(data)\n",
    "    print(header, '\\n')  # prints the top row of the spreadsheet and skips it\n",
    "    for row in data:  # for each student\n",
    "        name_file = open(f'{row[0]}.txt', 'w')  # creates or overrides a blank\n",
    "#         file\n",
    "#         print('   ', grade_sentence(row[8]), he_she_pronoun().title(),\n",
    "#               'has a grade of', row[8], 'for this semester.',\n",
    "#               gradesentence2(),\n",
    "#               improve_problem_set(row[5], row[6]),\n",
    "#               self_reflection(row[-1], his_her_pronoun()), '  ',\n",
    "#               help_1(he_she_pronoun()), contribution())\n",
    "        test_avg = (float(row[2]) + float(row[3])) / 2  # takes the\n",
    "#         average of the two tests\n",
    "        name_file.write(class_description + '\\n    ' + grade_sentence(row[8])\n",
    "                        + ' ' + he_she_pronoun().title() + ' has a grade of ' +\n",
    "                        row[8] + ' for this semester. ' + gradesentence2() +\n",
    "                        ' ' + improve_problem_set(row[5], row[6]) +\n",
    "                        self_reflection(row[-1], his_her_pronoun()) + '   ' +\n",
    "                        str(help_1(he_she_pronoun())) + ' ' + contribution() +\n",
    "                        ' Based on ' + his_her_pronoun() + 'tests, ' + row[0] +\n",
    "                        tests_comments(test_avg) + he_she_pronoun().title() +\n",
    "                        ' earned ' + a_an(row[4]) + ' ' + row[4] + ' on ' +\n",
    "                        his_her_pronoun() + 'final exam.')  # writes student's\n",
    "#     comment and inserts it into the txt file\n",
    "        name_file.close()"
   ]
  }
 ],
 "metadata": {
  "kernelspec": {
   "display_name": "Python 3",
   "language": "python",
   "name": "python3"
  },
  "language_info": {
   "codemirror_mode": {
    "name": "ipython",
    "version": 3
   },
   "file_extension": ".py",
   "mimetype": "text/x-python",
   "name": "python",
   "nbconvert_exporter": "python",
   "pygments_lexer": "ipython3",
   "version": "3.6.5"
  }
 },
 "nbformat": 4,
 "nbformat_minor": 2
}
